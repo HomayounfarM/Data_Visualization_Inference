{
  "nbformat": 4,
  "nbformat_minor": 0,
  "metadata": {
    "colab": {
      "private_outputs": true,
      "provenance": [],
      "authorship_tag": "ABX9TyOcWzoxU45f26biA+HgIM9m",
      "include_colab_link": true
    },
    "kernelspec": {
      "name": "ir",
      "display_name": "R"
    },
    "language_info": {
      "name": "R"
    }
  },
  "cells": [
    {
      "cell_type": "markdown",
      "metadata": {
        "id": "view-in-github",
        "colab_type": "text"
      },
      "source": [
        "<a href=\"https://colab.research.google.com/github/HomayounfarM/Data_Visualization_Inference/blob/main/R/Ex1_visualization_inference.ipynb\" target=\"_parent\"><img src=\"https://colab.research.google.com/assets/colab-badge.svg\" alt=\"Open In Colab\"/></a>"
      ]
    },
    {
      "cell_type": "markdown",
      "source": [
        "# Reading data file\n"
      ],
      "metadata": {
        "id": "1qGNxtTghC3G"
      }
    },
    {
      "cell_type": "code",
      "source": [
        "# Instal packages\n",
        "options(repos = c(CRAN = \"https://cran.rstudio.com/\"))\n",
        "install.packages('lme4/lme4')\n",
        "install.packages(\"janitor\")\n"
      ],
      "metadata": {
        "id": "NpzEuE2Ph2ea"
      },
      "execution_count": null,
      "outputs": []
    },
    {
      "cell_type": "code",
      "execution_count": null,
      "metadata": {
        "id": "1LOfz0j6ffHl"
      },
      "outputs": [],
      "source": [
        "# Instal libraries\n",
        "library(readr)\n",
        "library(janitor)\n",
        "library(dplyr)\n",
        "library(ggplot2)\n",
        "library(lme4)"
      ]
    },
    {
      "cell_type": "code",
      "source": [
        "# Reading file from Github\n",
        "url <- \"https://raw.githubusercontent.com/HomayounfarM/Data_Visualization_Inference/refs/heads/main/Data/Ex1.csv\"\n",
        "\n",
        "data <- read_csv(url)"
      ],
      "metadata": {
        "id": "2fhSbgWRglQg"
      },
      "execution_count": null,
      "outputs": []
    },
    {
      "cell_type": "code",
      "source": [
        "data_site <- data %>%\n",
        "  clean_names() %>%                            # from package janitor to lower case the titles of columns\n",
        "  mutate(block=factor(block), treatment = as.numeric(as.character(treatment)))\n",
        "str(data_site)"
      ],
      "metadata": {
        "id": "UPQI3p3FiN_5"
      },
      "execution_count": null,
      "outputs": []
    },
    {
      "cell_type": "code",
      "source": [
        "# Data visualization\n",
        "ggplot(data_site, aes(x = factor(treatment), y = tmy))+\n",
        "  geom_boxplot()\n",
        "\n",
        "ggplot(data_site, aes(x = treatment, y = tmy))+\n",
        "  geom_point(size=3, alpha=0.7)+\n",
        "  geom_smooth(method = \"lm\", se=TRUE)"
      ],
      "metadata": {
        "id": "1pL9TxF-i0UU"
      },
      "execution_count": null,
      "outputs": []
    },
    {
      "cell_type": "code",
      "source": [
        "# Fitting a linear model using LMER\n",
        "reg_lin_mod <- lmer(tmy ~ (1|block) + treatment , data = data_site)\n",
        "\n",
        "summary(reg_lin_mod)"
      ],
      "metadata": {
        "id": "3aX_9Erfobkt"
      },
      "execution_count": null,
      "outputs": []
    }
  ]
}